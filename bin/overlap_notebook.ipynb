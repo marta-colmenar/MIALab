{
 "cells": [
  {
   "cell_type": "code",
   "execution_count": 4,
   "metadata": {
    "ExecuteTime": {
     "end_time": "2023-12-05T19:23:38.684628500Z",
     "start_time": "2023-12-05T19:23:38.664630500Z"
    }
   },
   "outputs": [],
   "source": [
    "import argparse\n",
    "import datetime\n",
    "import os\n",
    "import sys\n",
    "import timeit\n",
    "import warnings\n",
    "\n",
    "import SimpleITK as sitk\n",
    "import copy\n",
    "import itertools\n",
    "import SimpleITK as sitk\n",
    "import numpy as np\n",
    "\n",
    "if sys.version_info[0:2] > (3, 9):\n",
    "    raise Exception(\n",
    "        \"Python version above 3.9 may cause problems with SimpleITK. [BufferError: memoryview has 1 exported buffer]\"\n",
    "    )\n",
    "\n",
    "try:\n",
    "    import mialab.data.structure as structure\n",
    "except ImportError:\n",
    "    # Append the MIALab root directory to Python path\n",
    "    sys.path.insert(0, os.path.join(os.path.dirname(sys.argv[0]), \"..\"))\n",
    "    import mialab.data.structure as structure\n"
   ]
  },
  {
   "cell_type": "code",
   "execution_count": 5,
   "metadata": {
    "ExecuteTime": {
     "end_time": "2023-12-05T19:23:39.615981400Z",
     "start_time": "2023-12-05T19:23:39.587016600Z"
    }
   },
   "outputs": [],
   "source": [
    "def subtract_overlap(larger_structure, smaller_structure):\n",
    "    # Convert images to arrays\n",
    "    larger_array = sitk.GetArrayFromImage(larger_structure)\n",
    "    smaller_array = sitk.GetArrayFromImage(smaller_structure)\n",
    "\n",
    "    # Identify overlapping regions\n",
    "    overlap_array = np.logical_and(larger_array > 0, smaller_array > 0)\n",
    "\n",
    "    # Set overlapping parts to 0 in the larger structure\n",
    "    larger_array = np.where(overlap_array, 0, larger_array)\n",
    "\n",
    "    # Identify non-overlapping regions and keep them in the larger structure\n",
    "    larger_array = np.where(np.logical_not(overlap_array), larger_array, 0)\n",
    "\n",
    "    return sitk.GetImageFromArray(larger_array)\n"
   ]
  },
  {
   "cell_type": "code",
   "execution_count": 8,
   "metadata": {
    "ExecuteTime": {
     "end_time": "2023-12-05T19:25:24.855253600Z",
     "start_time": "2023-12-05T19:25:24.015243100Z"
    }
   },
   "outputs": [
    {
     "name": "stdout",
     "output_type": "stream",
     "text": [
      "C:\\Users\\FlipFlop\\Documents\\UniBE\\Sem5_MedImLab\\Repo\\MIALab\n",
      "Current Working Directory: C:\\Users\\FlipFlop\\Documents\\UniBE\\Sem5_MedImLab\\Repo\\MIALab\n"
     ]
    }
   ],
   "source": [
    "\n",
    "%cd C:\\Users\\FlipFlop\\Documents\\UniBE\\Sem5_MedImLab\\Repo\\MIALab\n",
    "#todo I had to add this\n",
    "current_directory = os.getcwd()\n",
    "print(\"Current Working Directory:\", current_directory)\n",
    "\n",
    "# Replace these paths with the actual paths to your segmentation files\n",
    "white_matter_path = \"from_ubelix/white_matter/117122_SEG.mha\"\n",
    "gray_matter_path = \"from_ubelix/grey_matter/117122_SEG.mha\"\n",
    "thalamus_path = \"from_ubelix/thalamus_matter/117122_SEG.mha\"\n",
    "hippocampus_path = \"from_ubelix/hippocampus_matter/117122_SEG.mha\"\n",
    "amygdala_path = \"from_ubelix/amygdala_matter/117122_SEG.mha\"\n",
    "\n",
    "# Read segmentation images\n",
    "white_matter = sitk.ReadImage(white_matter_path)\n",
    "gray_matter = sitk.ReadImage(gray_matter_path)\n",
    "thalamus = sitk.ReadImage(thalamus_path)\n",
    "hippocampus = sitk.ReadImage(hippocampus_path)\n",
    "amygdala = sitk.ReadImage(amygdala_path)\n",
    "\n",
    "# Copy original images\n",
    "white_matter_original = copy.deepcopy(white_matter)\n",
    "gray_matter_original = copy.deepcopy(gray_matter)\n",
    "thalamus_original = copy.deepcopy(thalamus)\n",
    "hippocampus_original = copy.deepcopy(hippocampus)\n",
    "amygdala_original = copy.deepcopy(amygdala)\n",
    "\n",
    "# priority list \n",
    "priority_list = ['hypocampus', 'amygdala', 'thalamus', 'gray_matter', 'white_matter']\n",
    "\n",
    "# substract overlap from larger structures\n",
    "# white matter is substracted gray matter, thalamus, hippocampus, amygdala\n",
    "# gray matter is substracted thalamus, hippocampus, amygdala\n",
    "# thalamus is substracted hippocampus, amygdala\n",
    "# amygdala is substracted hippocampus\n",
    "\n",
    "# white matter\n",
    "white_matter = subtract_overlap(white_matter, gray_matter)\n",
    "white_matter = subtract_overlap(white_matter, thalamus)\n",
    "white_matter = subtract_overlap(white_matter, hippocampus)\n",
    "white_matter = subtract_overlap(white_matter, amygdala)\n",
    "\n",
    "# gray matter\n",
    "gray_matter = subtract_overlap(gray_matter, thalamus)\n",
    "gray_matter = subtract_overlap(gray_matter, hippocampus)\n",
    "gray_matter = subtract_overlap(gray_matter, amygdala)\n",
    "\n",
    "# thalamus\n",
    "thalamus = subtract_overlap(thalamus, hippocampus)\n",
    "thalamus = subtract_overlap(thalamus, amygdala)\n",
    "\n",
    "# amygdala\n",
    "amygdala = subtract_overlap(amygdala, hippocampus)\n",
    "\n",
    "# Copy information from original images\n",
    "white_matter.CopyInformation(white_matter_original)\n",
    "gray_matter.CopyInformation(gray_matter_original)\n",
    "thalamus.CopyInformation(thalamus_original)\n",
    "hippocampus.CopyInformation(hippocampus_original)\n",
    "amygdala.CopyInformation(amygdala_original)\n",
    "\n",
    "# Save the images\n",
    "sitk.WriteImage(white_matter, \"overlapping_output/117122/white_matter_r.mha\")\n",
    "sitk.WriteImage(gray_matter, \"overlapping_output/117122/gray_matter_r.mha\")\n",
    "sitk.WriteImage(thalamus, \"overlapping_output/117122/thalamus_r.mha\")\n",
    "sitk.WriteImage(hippocampus, \"overlapping_output/117122/hippocampus_r.mha\")\n",
    "sitk.WriteImage(amygdala, \"overlapping_output/117122/amygdala_r.mha\")"
   ]
  },
  {
   "cell_type": "code",
   "execution_count": 12,
   "outputs": [],
   "source": [
    "def calculate_overlap_matrix(segmentation_images):\n",
    "    \"\"\"Calculates the overlap matrix for the given segmentation images.\"\"\"\n",
    "\n",
    "    # Initialize the overlap matrix\n",
    "    num_labels = len(segmentation_images)\n",
    "    overlap_matrix = [[0] * num_labels for _ in range(num_labels)]\n",
    "\n",
    "    # Iterate through all combinations of segmentation images\n",
    "    for (i, segmentation_image_i), (j, segmentation_image_j) in itertools.product(\n",
    "        enumerate(segmentation_images), repeat=2\n",
    "    ):\n",
    "        # Calculate the intersection (overlap) instead of voxel count difference\n",
    "        intersection_count = compute_intersection(\n",
    "            segmentation_image_i, segmentation_image_j\n",
    "        )\n",
    "        overlap_matrix[i][j] = intersection_count\n",
    "        overlap_matrix[j][i] = intersection_count  # Symmetric matrix\n",
    "\n",
    "    return overlap_matrix\n",
    "\n"
   ],
   "metadata": {
    "collapsed": false,
    "ExecuteTime": {
     "end_time": "2023-12-05T19:30:50.595509900Z",
     "start_time": "2023-12-05T19:30:50.527510600Z"
    }
   }
  },
  {
   "cell_type": "code",
   "execution_count": 13,
   "outputs": [],
   "source": [
    "def compute_intersection(structure_a, structure_b):\n",
    "    \"\"\"Computes the intersection of two structures.\"\"\"\n",
    "\n",
    "    # Set the same origin, spacing, and direction\n",
    "    structure_a.SetOrigin(structure_b.GetOrigin())\n",
    "    structure_a.SetSpacing(structure_b.GetSpacing())\n",
    "    structure_a.SetDirection(structure_b.GetDirection())\n",
    "\n",
    "    # Compute the intersection\n",
    "    intersection = sitk.And(structure_a, structure_b)\n",
    "\n",
    "    # Count non-zero voxels in the intersection\n",
    "    voxel_count_intersection = sitk.GetArrayFromImage(intersection).sum()\n",
    "\n",
    "    return voxel_count_intersection\n"
   ],
   "metadata": {
    "collapsed": false,
    "ExecuteTime": {
     "end_time": "2023-12-05T19:30:51.414413Z",
     "start_time": "2023-12-05T19:30:51.378418900Z"
    }
   }
  },
  {
   "cell_type": "code",
   "execution_count": 14,
   "outputs": [
    {
     "name": "stdout",
     "output_type": "stream",
     "text": [
      "Overlap Matrix - original:\n",
      "[551804, 0, 15853, 632, 0]\n",
      "[0, 1002480, 0, 13036, 0]\n",
      "[15853, 0, 128455, 495, 0]\n",
      "[632, 13036, 495, 61908, 0]\n",
      "[0, 0, 0, 0, 27120]\n"
     ]
    }
   ],
   "source": [
    "# Read segmentation images\n",
    "white_matter = sitk.ReadImage(white_matter_path)\n",
    "gray_matter = sitk.ReadImage(gray_matter_path)\n",
    "thalamus = sitk.ReadImage(thalamus_path)\n",
    "hippocampus = sitk.ReadImage(hippocampus_path)\n",
    "amygdala = sitk.ReadImage(amygdala_path)\n",
    "segmentation_images= [white_matter, gray_matter, thalamus, hippocampus, amygdala]\n",
    "overlap_matrix = calculate_overlap_matrix(segmentation_images)\n",
    "print(\"Overlap Matrix - original:\")\n",
    "for row in overlap_matrix:\n",
    "    print(row)"
   ],
   "metadata": {
    "collapsed": false,
    "ExecuteTime": {
     "end_time": "2023-12-05T19:30:55.127411100Z",
     "start_time": "2023-12-05T19:30:52.204417100Z"
    }
   }
  },
  {
   "cell_type": "code",
   "execution_count": 15,
   "outputs": [
    {
     "name": "stdout",
     "output_type": "stream",
     "text": [
      "Overlap Matrix - original:\n",
      "[534254, 0, 0, 0, 0]\n",
      "[0, 985754, 0, 0, 0]\n",
      "[0, 0, 128455, 495, 0]\n",
      "[0, 0, 495, 61908, 0]\n",
      "[0, 0, 0, 0, 27120]\n"
     ]
    }
   ],
   "source": [
    "white_matter_path= \"overlapping_output/117122/white_matter_r.mha\"\n",
    "gray_matter_path=\"overlapping_output/117122/gray_matter_r.mha\"\n",
    "thalamus= \"overlapping_output/117122/thalamus_r.mha\"\n",
    "hippocampus=\"overlapping_output/117122/hippocampus_r.mha\"\n",
    "amygdala=\"overlapping_output/117122/amygdala_r.mha\"\n",
    "\n",
    "# Read segmentation images\n",
    "white_matter = sitk.ReadImage(white_matter_path)\n",
    "gray_matter = sitk.ReadImage(gray_matter_path)\n",
    "thalamus = sitk.ReadImage(thalamus_path)\n",
    "hippocampus = sitk.ReadImage(hippocampus_path)\n",
    "amygdala = sitk.ReadImage(amygdala_path)\n",
    "segmentation_images= [white_matter, gray_matter, thalamus, hippocampus, amygdala]\n",
    "overlap_matrix = calculate_overlap_matrix(segmentation_images)\n",
    "print(\"Overlap Matrix - after substraction:\")\n",
    "for row in overlap_matrix:\n",
    "    print(row)"
   ],
   "metadata": {
    "collapsed": false,
    "ExecuteTime": {
     "end_time": "2023-12-05T19:32:58.698031500Z",
     "start_time": "2023-12-05T19:32:56.227047700Z"
    }
   }
  },
  {
   "cell_type": "code",
   "execution_count": 25,
   "outputs": [],
   "source": [
    "def calculate_weighted_dice_scores(evaluator_results, images_prediction, runinfofile):\n",
    "    # get dice scores for all labels\n",
    "    label_mapping = {\n",
    "        0: 'Background',\n",
    "        1: 'WhiteMatter',\n",
    "        2: 'GreyMatter',\n",
    "        3: 'Hippocampus',\n",
    "        4: 'Amygdala',\n",
    "        5: 'Thalamus'\n",
    "    }\n",
    "    def get_dice_scores_for_all_labels(results):\n",
    "        unique_labels = set(\n",
    "            result.label for result in results if result.metric == 'DICE')\n",
    "        dice_scores_per_label = {}\n",
    "        for label in unique_labels:\n",
    "            dice_scores_per_label[label] = [result.value for result in results if\n",
    "                                            result.metric == 'DICE' and result.label == label]\n",
    "        return dice_scores_per_label\n",
    "\n",
    "\n",
    "    def get_voxel_count_per_label(img):\n",
    "        image_array = sitk.GetArrayFromImage(img)\n",
    "        unique_labels = np.unique(image_array)\n",
    "        # volume_per_label = []\n",
    "        volume_per_label = {}\n",
    "        for label in unique_labels:\n",
    "            # Extract the voxel indices for the current label\n",
    "            label_indices = np.where(image_array == label)\n",
    "\n",
    "            # Calculate the size of the label in each dimension\n",
    "            size_x = (np.max(label_indices[0]) - np.min(label_indices[0]) + 1)\n",
    "            size_y = (np.max(label_indices[1]) - np.min(label_indices[1]) + 1)\n",
    "            size_z = (np.max(label_indices[2]) - np.min(label_indices[2]) + 1)\n",
    "\n",
    "            volume = size_x * size_y * size_z\n",
    "            volume_per_label[label] = volume\n",
    "        return volume_per_label\n",
    "\n",
    "\n",
    "    def map_fields(init_dict, map_dict, res_dict=None):\n",
    "        res_dict = res_dict or {}\n",
    "        for k, v in init_dict.items():\n",
    "            if isinstance(v, dict):\n",
    "                v = map_fields(v, map_dict[k])\n",
    "            elif k in map_dict.keys():\n",
    "                k = str(map_dict[k])\n",
    "            res_dict[k] = v\n",
    "        return res_dict\n",
    "\n",
    "\n",
    "    def calculate_weighted_dice_score_per_label(dice_scores_per_label, volume_per_label):\n",
    "\n",
    "        background_label=volume_per_label[\"Background\"]\n",
    "        del volume_per_label[\"Background\"]  # remove background\n",
    "        if len(dice_scores_per_label) != len(volume_per_label):\n",
    "            volume_per_label = {label: volume_per_label[label] for label in dice_scores_per_label}\n",
    "\n",
    "        # Calculate the total voxel count\n",
    "        #total_voxel_count = sum(volume_per_label.values())\n",
    "        total_voxel_count = background_label\n",
    "\n",
    "        voxel_counts_ordered = {label: volume_per_label[label] for label in dice_scores_per_label}\n",
    "\n",
    "        weighted_dice_scores = {\n",
    "            label: (total_voxel_count - voxel_counts_ordered[label]) * dice_scores_per_label[label] / total_voxel_count\n",
    "            for label in dice_scores_per_label if dice_scores_per_label[label] != 0.0\n",
    "        }\n",
    "\n",
    "\n",
    "        return weighted_dice_scores\n",
    "\n",
    "\n",
    "    dice_scores_all_labels = get_dice_scores_for_all_labels(evaluator_results)\n",
    "\n",
    "    # Remove the second entry [1] from each list (for some reason I get double entries for each label)\n",
    "    dice_scores_all_labels = {label: score[0] for label, score in dice_scores_all_labels.items()}\n",
    "\n",
    "    #Get voxel count per label\n",
    "    volume_per_img = [map_fields(get_voxel_count_per_label(img),label_mapping) for img in images_prediction]\n",
    "\n",
    "    # Calculate the total voxel count per label\n",
    "    voxel_count_per_label = {}\n",
    "    for volume_dict in volume_per_img:\n",
    "        for label, volume in volume_dict.items():\n",
    "            if label not in voxel_count_per_label:\n",
    "                voxel_count_per_label[label] = []\n",
    "            voxel_count_per_label[label].append(volume)\n",
    "\n",
    "    # Calculate the mean voxel count per label\n",
    "    #fixme this one might be pointless\n",
    "    mean_voxel_count_per_label = {label: np.mean(volumes) for label, volumes in voxel_count_per_label.items()}\n",
    "    # fixme background same as total_voxels_avg???\n",
    "    #del mean_voxel_count_per_label[\"Background\"]#remove background\n",
    "\n",
    "    weighted_dice_scores = calculate_weighted_dice_score_per_label(dice_scores_all_labels, mean_voxel_count_per_label)\n",
    "\n",
    "    print(\"Weighted Dice Scores per Label:\")\n",
    "    for label, score in weighted_dice_scores.items():\n",
    "        print(f\"Label {label}: {score}\")\n",
    "    with open(runinfofile, 'a') as f:\n",
    "        f.write(\"\\nWeighted Dice Scores:\\n\")\n",
    "        for label, score in weighted_dice_scores.items():\n",
    "            f.write(f\"Label {label}: {score}\\n\")"
   ],
   "metadata": {
    "collapsed": false,
    "ExecuteTime": {
     "end_time": "2023-12-06T20:23:23.926891Z",
     "start_time": "2023-12-06T20:23:23.834552400Z"
    }
   }
  },
  {
   "cell_type": "code",
   "execution_count": 28,
   "outputs": [
    {
     "name": "stdout",
     "output_type": "stream",
     "text": [
      "---------- Processing 117122\n",
      "---------- Processing 118528\n",
      "---------- Processing 118730\n",
      "---------- Processing 118932\n",
      "---------- Processing 120111\n",
      "---------- Processing 122317\n",
      "---------- Processing 122620\n",
      "---------- Processing 123117\n",
      "---------- Processing 123925\n",
      "---------- Processing 124422\n",
      "\n",
      "Subject-wise results...\n",
      "\n",
      "Subject-wise results...\n",
      "\n",
      "Aggregated statistic results...\n",
      "LABEL        METRIC   STATISTIC  VALUE\n",
      "WhiteMatter  DICE     MEAN       0.544\n",
      "WhiteMatter  DICE     STD        0.000\n",
      "WhiteMatter  HDRFDST  MEAN       6.481\n",
      "WhiteMatter  HDRFDST  STD        0.000\n",
      "Weighted Dice Scores per Label:\n",
      "Label WhiteMatter: 0.3189080987254304\n"
     ]
    }
   ],
   "source": [
    "import mialab.utilities.pipeline_utilities as putil\n",
    "    \n",
    "# load atlas images\n",
    "image_prediction = sitk.ReadImage(white_matter_path)\n",
    "script_dir = r\"C:\\Users\\FlipFlop\\Documents\\UniBE\\Sem5_MedImLab\\Repo\\MIALab\\bin\"\n",
    "data_atlas_dir=os.path.normpath(os.path.join(script_dir, '../data/atlas'))\n",
    "putil.load_atlas_images(data_atlas_dir)\n",
    "\n",
    "LOADING_KEYS = [structure.BrainImageTypes.T1w,\n",
    "                structure.BrainImageTypes.T2w,\n",
    "                structure.BrainImageTypes.GroundTruth,\n",
    "                structure.BrainImageTypes.BrainMask,\n",
    "                structure.BrainImageTypes.RegistrationTransform]\n",
    "\n",
    "import mialab.utilities.file_access_utilities as futil\n",
    "# crawl the training image directories\n",
    "data_test_dir=os.path.normpath(os.path.join(script_dir, '../data/test/'))\n",
    "crawler = futil.FileSystemDataCrawler(data_test_dir,\n",
    "                                      LOADING_KEYS,\n",
    "                                      futil.BrainImageFilePathGenerator(),\n",
    "                                      futil.DataDirectoryFilter())\n",
    "pre_process_params = {'skullstrip_pre': True,\n",
    "                      'normalization_pre': True,\n",
    "                      'registration_pre': True,\n",
    "                      'coordinates_feature': True,\n",
    "                      'intensity_feature': True,\n",
    "                      'gradient_intensity_feature': True}\n",
    "binary_label = 1 #todo white matter\n",
    "# Load images for training and preprocess\n",
    "images_test = putil.pre_process_batch(crawler.data, pre_process_params, multi_process=False, label=binary_label)\n",
    "\n",
    "binary_label=1\n",
    "for img in images_test:\n",
    "    evaluator = putil.init_evaluator(binary_label)#todo white matter\n",
    "    evaluator.evaluate(image_prediction, img.images[structure.BrainImageTypes.GroundTruth], img.id_)\n",
    "\n",
    "result_dir=os.path.normpath(os.path.join(script_dir, '../overlap-result'))\n",
    "print('\\nSubject-wise results...')\n",
    "result_file = os.path.join(result_dir, f'results_{binary_label}.csv')\n",
    "\n",
    "import pymia.evaluation.writer as writer\n",
    "\n",
    "\n",
    "    \n",
    "print('\\nSubject-wise results...')\n",
    "writer.ConsoleWriter(use_logging=True).write(evaluator.results)\n",
    "\n",
    "# report also mean and standard deviation among all subjects\n",
    "result_summary_file = os.path.join(result_dir, 'results_summary.csv')\n",
    "functions = {'MEAN': np.mean, 'STD': np.std}\n",
    "writer.CSVStatisticsWriter(result_summary_file, functions=functions).write(evaluator.results)\n",
    "print('\\nAggregated statistic results...')\n",
    "writer.ConsoleStatisticsWriter(functions=functions).write(evaluator.results)\n",
    "\n",
    "WEIGHTED_DICE=True\n",
    "images_prediction=[]\n",
    "images_prediction.append(image_prediction)\n",
    "\n",
    "# # write run info file\n",
    "runinfofile = os.path.join(result_dir, 'RunInfo.txt')\n",
    "with open(runinfofile, 'w') as f:\n",
    "    f.write(\"General info:\\n\")\n",
    "    f.write(\"label: \" + str(binary_label) + \"\\n\")\n",
    "\n",
    "\n",
    "if WEIGHTED_DICE:\n",
    "    calculate_weighted_dice_scores(evaluator.results, images_prediction, runinfofile)\n",
    "\n",
    "# clear results such that the evaluator is ready for the next evaluation\n",
    "evaluator.clear()\n",
    "\n",
    "\n"
   ],
   "metadata": {
    "collapsed": false,
    "ExecuteTime": {
     "end_time": "2023-12-07T19:52:55.257475500Z",
     "start_time": "2023-12-07T19:41:59.793392400Z"
    }
   }
  },
  {
   "cell_type": "code",
   "execution_count": null,
   "outputs": [],
   "source": [],
   "metadata": {
    "collapsed": false
   }
  }
 ],
 "metadata": {
  "kernelspec": {
   "display_name": "Python 3",
   "language": "python",
   "name": "python3"
  },
  "language_info": {
   "codemirror_mode": {
    "name": "ipython",
    "version": 3
   },
   "file_extension": ".py",
   "mimetype": "text/x-python",
   "name": "python",
   "nbconvert_exporter": "python",
   "pygments_lexer": "ipython3",
   "version": "3.9.6"
  }
 },
 "nbformat": 4,
 "nbformat_minor": 2
}
